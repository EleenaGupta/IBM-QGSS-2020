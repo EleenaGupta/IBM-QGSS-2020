{
 "cells": [
  {
   "cell_type": "markdown",
   "metadata": {},
   "source": [
    "![image](resources/qgss-header.png)"
   ]
  },
  {
   "cell_type": "markdown",
   "metadata": {},
   "source": [
    "# Lab 9: Hardware-efficient trial states for variational quantum eigensolvers"
   ]
  },
  {
   "cell_type": "markdown",
   "metadata": {},
   "source": [
    "In this lab, we want to find the ground state energy of the following two-qubit Hamiltonian representing molecular $H_2$ at its equilibrium distance. Note that we have already mapped the fermionic operators onto qubits here.\n",
    "\n",
    "```\n",
    "h2_hamiltonian = (-1.0523732)  II + \n",
    "                 (0.39793742)  IZ + \n",
    "                 (-0.3979374)  ZI + \n",
    "                 (-0.0112801)  ZZ + \n",
    "                 (0.18093119)  XX\n",
    "```\n",
    "                \n",
    "Note that these co-efficients are functions of the interatomic distance between the atoms. A term like `IZ` is shorthand notation for a tensor product of two-qubit operators -- the identity operator ($I$) on one qubit and pauli-Z operator ($Z$) on the other qubit."
   ]
  },
  {
   "cell_type": "markdown",
   "metadata": {},
   "source": [
    "### Installing necessary packages\n",
    "\n",
    "Before we begin, you will need to install some prerequisites into your environment. Run the cell below to complete these installations. At the end, the cell outputs will be cleared."
   ]
  },
  {
   "cell_type": "code",
   "execution_count": 1,
   "metadata": {},
   "outputs": [],
   "source": [
    "!pip install -U -r grading_tools/requirements.txt\n",
    "\n",
    "from IPython.display import clear_output\n",
    "clear_output()"
   ]
  },
  {
   "cell_type": "markdown",
   "metadata": {},
   "source": [
    "# Hardware efficient trial states"
   ]
  },
  {
   "cell_type": "markdown",
   "metadata": {},
   "source": [
    "We need to prepare a guess for the ground state of this Hamiltonian. For this exercise, we will construct a hardware efficient trial state of depth `d=2`, with CNOT (`CX`) gates for the entanglers. We will interleave each entangling layer with a set of $R_yR_z$ gates on each qubit (total 4 layers). For the first guess, we will use rotation angles of $\\pi/2$ on all the $R_y$ and $R_z$ gates."
   ]
  },
  {
   "cell_type": "code",
   "execution_count": 3,
   "metadata": {},
   "outputs": [],
   "source": [
    "from numpy import pi\n",
    "from qiskit import QuantumCircuit, Aer, execute\n",
    "from qiskit.visualization import plot_histogram"
   ]
  },
  {
   "cell_type": "code",
   "execution_count": 4,
   "metadata": {},
   "outputs": [],
   "source": [
    "def prepare_hets_circuit(depth, angle1, angle2):\n",
    "\n",
    "    hets_circ = QuantumCircuit(depth)\n",
    "    hets_circ.ry(angle1, 0)\n",
    "    hets_circ.rz(angle1, 0)\n",
    "    hets_circ.ry(angle1, 1)\n",
    "    hets_circ.rz(angle1, 1)\n",
    "\n",
    "    for ii in range(depth):\n",
    "        hets_circ.cx(0,1)\n",
    "        hets_circ.ry(angle2,0)\n",
    "        hets_circ.rz(angle2,0)\n",
    "        hets_circ.ry(angle2,1)\n",
    "        hets_circ.rz(angle2,1)\n",
    "    \n",
    "    return hets_circ "
   ]
  },
  {
   "cell_type": "code",
   "execution_count": 5,
   "metadata": {},
   "outputs": [
    {
     "data": {
      "text/html": [
       "<pre style=\"word-wrap: normal;white-space: pre;background: #fff0;line-height: 1.1;font-family: &quot;Courier New&quot;,Courier,monospace\">     ┌─────────┐┌─────────┐     ┌─────────┐┌─────────┐     ┌─────────┐»\n",
       "q_0: ┤ RY(π/2) ├┤ RZ(π/2) ├──■──┤ RY(π/2) ├┤ RZ(π/2) ├──■──┤ RY(π/2) ├»\n",
       "     ├─────────┤├─────────┤┌─┴─┐├─────────┤├─────────┤┌─┴─┐├─────────┤»\n",
       "q_1: ┤ RY(π/2) ├┤ RZ(π/2) ├┤ X ├┤ RY(π/2) ├┤ RZ(π/2) ├┤ X ├┤ RY(π/2) ├»\n",
       "     └─────────┘└─────────┘└───┘└─────────┘└─────────┘└───┘└─────────┘»\n",
       "«     ┌─────────┐\n",
       "«q_0: ┤ RZ(π/2) ├\n",
       "«     ├─────────┤\n",
       "«q_1: ┤ RZ(π/2) ├\n",
       "«     └─────────┘</pre>"
      ],
      "text/plain": [
       "     ┌─────────┐┌─────────┐     ┌─────────┐┌─────────┐     ┌─────────┐»\n",
       "q_0: ┤ RY(π/2) ├┤ RZ(π/2) ├──■──┤ RY(π/2) ├┤ RZ(π/2) ├──■──┤ RY(π/2) ├»\n",
       "     ├─────────┤├─────────┤┌─┴─┐├─────────┤├─────────┤┌─┴─┐├─────────┤»\n",
       "q_1: ┤ RY(π/2) ├┤ RZ(π/2) ├┤ X ├┤ RY(π/2) ├┤ RZ(π/2) ├┤ X ├┤ RY(π/2) ├»\n",
       "     └─────────┘└─────────┘└───┘└─────────┘└─────────┘└───┘└─────────┘»\n",
       "«     ┌─────────┐\n",
       "«q_0: ┤ RZ(π/2) ├\n",
       "«     ├─────────┤\n",
       "«q_1: ┤ RZ(π/2) ├\n",
       "«     └─────────┘"
      ]
     },
     "execution_count": 5,
     "metadata": {},
     "output_type": "execute_result"
    }
   ],
   "source": [
    "hets_circuit = prepare_hets_circuit(2, pi/2, pi/2)\n",
    "hets_circuit.draw()"
   ]
  },
  {
   "cell_type": "markdown",
   "metadata": {},
   "source": [
    "# Measuring expectation values"
   ]
  },
  {
   "cell_type": "markdown",
   "metadata": {},
   "source": [
    "Next, we measure expectation values. **We will begin by measuring the ZZ expectation value, or $\\langle ZZ \\rangle$**. We will first create a copy of the `hets_circ` quantum circuit that we created above, and add measurements to it."
   ]
  },
  {
   "cell_type": "code",
   "execution_count": 6,
   "metadata": {},
   "outputs": [
    {
     "data": {
      "text/html": [
       "<pre style=\"word-wrap: normal;white-space: pre;background: #fff0;line-height: 1.1;font-family: &quot;Courier New&quot;,Courier,monospace\">        ┌─────────┐┌─────────┐     ┌─────────┐┌─────────┐     ┌─────────┐»\n",
       "   q_0: ┤ RY(π/2) ├┤ RZ(π/2) ├──■──┤ RY(π/2) ├┤ RZ(π/2) ├──■──┤ RY(π/2) ├»\n",
       "        ├─────────┤├─────────┤┌─┴─┐├─────────┤├─────────┤┌─┴─┐├─────────┤»\n",
       "   q_1: ┤ RY(π/2) ├┤ RZ(π/2) ├┤ X ├┤ RY(π/2) ├┤ RZ(π/2) ├┤ X ├┤ RY(π/2) ├»\n",
       "        └─────────┘└─────────┘└───┘└─────────┘└─────────┘└───┘└─────────┘»\n",
       "meas: 2/═════════════════════════════════════════════════════════════════»\n",
       "                                                                         »\n",
       "«        ┌─────────┐ ░ ┌─┐   \n",
       "«   q_0: ┤ RZ(π/2) ├─░─┤M├───\n",
       "«        ├─────────┤ ░ └╥┘┌─┐\n",
       "«   q_1: ┤ RZ(π/2) ├─░──╫─┤M├\n",
       "«        └─────────┘ ░  ║ └╥┘\n",
       "«meas: 2/═══════════════╩══╩═\n",
       "«                       0  1 </pre>"
      ],
      "text/plain": [
       "        ┌─────────┐┌─────────┐     ┌─────────┐┌─────────┐     ┌─────────┐»\n",
       "   q_0: ┤ RY(π/2) ├┤ RZ(π/2) ├──■──┤ RY(π/2) ├┤ RZ(π/2) ├──■──┤ RY(π/2) ├»\n",
       "        ├─────────┤├─────────┤┌─┴─┐├─────────┤├─────────┤┌─┴─┐├─────────┤»\n",
       "   q_1: ┤ RY(π/2) ├┤ RZ(π/2) ├┤ X ├┤ RY(π/2) ├┤ RZ(π/2) ├┤ X ├┤ RY(π/2) ├»\n",
       "        └─────────┘└─────────┘└───┘└─────────┘└─────────┘└───┘└─────────┘»\n",
       "meas: 2/═════════════════════════════════════════════════════════════════»\n",
       "                                                                         »\n",
       "«        ┌─────────┐ ░ ┌─┐   \n",
       "«   q_0: ┤ RZ(π/2) ├─░─┤M├───\n",
       "«        ├─────────┤ ░ └╥┘┌─┐\n",
       "«   q_1: ┤ RZ(π/2) ├─░──╫─┤M├\n",
       "«        └─────────┘ ░  ║ └╥┘\n",
       "«meas: 2/═══════════════╩══╩═\n",
       "«                       0  1 "
      ]
     },
     "execution_count": 6,
     "metadata": {},
     "output_type": "execute_result"
    }
   ],
   "source": [
    "def measure_zz_circuit(given_circuit):\n",
    "    zz_meas = given_circuit.copy()\n",
    "    zz_meas.measure_all()\n",
    "    return zz_meas\n",
    "\n",
    "zz_meas = measure_zz_circuit(hets_circuit)\n",
    "zz_meas.draw()"
   ]
  },
  {
   "cell_type": "markdown",
   "metadata": {},
   "source": [
    "Next, let's execute this quantum circuit and see the measurement outcomes."
   ]
  },
  {
   "cell_type": "code",
   "execution_count": 7,
   "metadata": {},
   "outputs": [],
   "source": [
    "simulator = Aer.get_backend('qasm_simulator')"
   ]
  },
  {
   "cell_type": "code",
   "execution_count": 8,
   "metadata": {},
   "outputs": [
    {
     "data": {
      "image/png": "[encoded data removed]",
      "text/plain": [
       "<Figure size 504x360 with 1 Axes>"
      ]
     },
     "execution_count": 8,
     "metadata": {},
     "output_type": "execute_result"
    }
   ],
   "source": [
    "result = execute(zz_meas, backend = simulator, shots=10000).result()\n",
    "counts = result.get_counts(zz_meas)\n",
    "\n",
    "plot_histogram(counts)"
   ]
  },
  {
   "cell_type": "markdown",
   "metadata": {},
   "source": [
    "We can analyze the counts and calculate the $\\langle ZZ \\rangle$ as follows:"
   ]
  },
  {
   "cell_type": "code",
   "execution_count": 9,
   "metadata": {},
   "outputs": [],
   "source": [
    "def measure_zz(given_circuit, num_shots = 10000):\n",
    "\n",
    "    zz_meas = measure_zz_circuit(given_circuit)\n",
    "    \n",
    "    result = execute(zz_meas, backend = simulator, shots = num_shots).result()\n",
    "    counts = result.get_counts(zz_meas)\n",
    "\n",
    "    if '00' not in counts:\n",
    "        counts['00'] = 0\n",
    "    if '01' not in counts:\n",
    "        counts['01'] = 0\n",
    "    if '10' not in counts:\n",
    "        counts['10'] = 0\n",
    "    if '11' not in counts:\n",
    "        counts['11'] = 0 \n",
    "\n",
    "    total_counts = counts['00'] + counts['11'] + counts['01'] + counts['10']\n",
    "    zz = counts['00'] + counts['11'] - counts['01'] - counts['10']    # zz applied to both qubits. \n",
    "    # zz(00) => + sign\n",
    "    # zz(11) => -- => + sign\n",
    "    # zz(01) => +- => - sign\n",
    "    # zz(10) => -+ => - sign\n",
    "    zz = zz / total_counts\n",
    "    \n",
    "    return zz"
   ]
  },
  {
   "cell_type": "code",
   "execution_count": 10,
   "metadata": {},
   "outputs": [
    {
     "name": "stdout",
     "output_type": "stream",
     "text": [
      "<ZZ> = -0.0064\n"
     ]
    }
   ],
   "source": [
    "zz = measure_zz(hets_circuit)\n",
    "print(\"<ZZ> =\", str(zz))"
   ]
  },
  {
   "cell_type": "markdown",
   "metadata": {},
   "source": [
    "**What about $\\langle ZI \\rangle$ and  $\\langle IZ \\rangle$? Do these need new circuits?**\n",
    "\n",
    "The answer is no, and they can be computed from the results above."
   ]
  },
  {
   "cell_type": "code",
   "execution_count": 11,
   "metadata": {},
   "outputs": [],
   "source": [
    "def measure_zi(given_circuit, num_shots = 10000):\n",
    "    \n",
    "    zz_meas = measure_zz_circuit(given_circuit)\n",
    "    \n",
    "    result = execute(zz_meas, backend = simulator, shots = num_shots).result()\n",
    "    counts = result.get_counts(zz_meas)\n",
    "\n",
    "    if '00' not in counts:\n",
    "        counts['00'] = 0\n",
    "    if '01' not in counts:\n",
    "        counts['01'] = 0\n",
    "    if '10' not in counts:\n",
    "        counts['10'] = 0\n",
    "    if '11' not in counts:\n",
    "        counts['11'] = 0 \n",
    "\n",
    "    total_counts = counts['00'] + counts['11'] + counts['01'] + counts['10']\n",
    "    \n",
    "    zi = counts['00'] - counts['11'] + counts['01'] - counts['10']\n",
    "    # zi(00) => + sign\n",
    "    # zi(11) => -+ => - sign\n",
    "    # zi(01) => + sign\n",
    "    # zi(10) => -+ => - sign\n",
    "    zi = zi / total_counts\n",
    "    \n",
    "    return zi\n",
    "\n",
    "def measure_iz(given_circuit, num_shots = 10000):\n",
    "    \n",
    "    zz_meas = measure_zz_circuit(given_circuit)\n",
    "    \n",
    "    result = execute(zz_meas, backend = simulator, shots = num_shots).result()\n",
    "    counts = result.get_counts(zz_meas)\n",
    "\n",
    "    if '00' not in counts:\n",
    "        counts['00'] = 0\n",
    "    if '01' not in counts:\n",
    "        counts['01'] = 0\n",
    "    if '10' not in counts:\n",
    "        counts['10'] = 0\n",
    "    if '11' not in counts:\n",
    "        counts['11'] = 0 \n",
    "\n",
    "    total_counts = counts['00'] + counts['11'] + counts['01'] + counts['10']\n",
    "    \n",
    "    iz = counts['00'] - counts['11'] - counts['01'] + counts['10']\n",
    "    # iz(00) => + sign\n",
    "    # iz(11) => +- => - sign\n",
    "    # iz(01) => +- => - sign\n",
    "    # iz(10) => + sign\n",
    "    iz = iz / total_counts\n",
    "    \n",
    "    return iz"
   ]
  },
  {
   "cell_type": "code",
   "execution_count": 12,
   "metadata": {},
   "outputs": [
    {
     "name": "stdout",
     "output_type": "stream",
     "text": [
      "<ZI> = 0.0038\n",
      "<IZ> = 0.0108\n"
     ]
    }
   ],
   "source": [
    "zi = measure_zi(hets_circuit)\n",
    "print(\"<ZI> =\", str(zi))\n",
    "\n",
    "iz = measure_iz(hets_circuit)\n",
    "print(\"<IZ> =\", str(iz))"
   ]
  },
  {
   "cell_type": "markdown",
   "metadata": {},
   "source": [
    "**Next, we measure $\\langle XX \\rangle$**"
   ]
  },
  {
   "cell_type": "code",
   "execution_count": 15,
   "metadata": {},
   "outputs": [],
   "source": [
    "def measure_xx_circuit(given_circuit):\n",
    "    xx_meas = given_circuit.copy()\n",
    "    \n",
    "    ### WRITE YOUR CODE BETWEEN THESE LINES - START\n",
    "    xx_meas.h(0)\n",
    "    xx_meas.h(1)\n",
    "    xx_meas.measure_all()\n",
    "    \n",
    "    ### WRITE YOUR CODE BETWEEN THESE LINES - END\n",
    "\n",
    "    return xx_meas"
   ]
  },
  {
   "cell_type": "code",
   "execution_count": 16,
   "metadata": {},
   "outputs": [
    {
     "data": {
      "text/html": [
       "<pre style=\"word-wrap: normal;white-space: pre;background: #fff0;line-height: 1.1;font-family: &quot;Courier New&quot;,Courier,monospace\">        ┌─────────┐┌─────────┐     ┌─────────┐┌─────────┐     ┌─────────┐»\n",
       "   q_0: ┤ RY(π/2) ├┤ RZ(π/2) ├──■──┤ RY(π/2) ├┤ RZ(π/2) ├──■──┤ RY(π/2) ├»\n",
       "        ├─────────┤├─────────┤┌─┴─┐├─────────┤├─────────┤┌─┴─┐├─────────┤»\n",
       "   q_1: ┤ RY(π/2) ├┤ RZ(π/2) ├┤ X ├┤ RY(π/2) ├┤ RZ(π/2) ├┤ X ├┤ RY(π/2) ├»\n",
       "        └─────────┘└─────────┘└───┘└─────────┘└─────────┘└───┘└─────────┘»\n",
       "meas: 2/═════════════════════════════════════════════════════════════════»\n",
       "                                                                         »\n",
       "«        ┌─────────┐┌───┐ ░ ┌─┐   \n",
       "«   q_0: ┤ RZ(π/2) ├┤ H ├─░─┤M├───\n",
       "«        ├─────────┤├───┤ ░ └╥┘┌─┐\n",
       "«   q_1: ┤ RZ(π/2) ├┤ H ├─░──╫─┤M├\n",
       "«        └─────────┘└───┘ ░  ║ └╥┘\n",
       "«meas: 2/════════════════════╩══╩═\n",
       "«                            0  1 </pre>"
      ],
      "text/plain": [
       "        ┌─────────┐┌─────────┐     ┌─────────┐┌─────────┐     ┌─────────┐»\n",
       "   q_0: ┤ RY(π/2) ├┤ RZ(π/2) ├──■──┤ RY(π/2) ├┤ RZ(π/2) ├──■──┤ RY(π/2) ├»\n",
       "        ├─────────┤├─────────┤┌─┴─┐├─────────┤├─────────┤┌─┴─┐├─────────┤»\n",
       "   q_1: ┤ RY(π/2) ├┤ RZ(π/2) ├┤ X ├┤ RY(π/2) ├┤ RZ(π/2) ├┤ X ├┤ RY(π/2) ├»\n",
       "        └─────────┘└─────────┘└───┘└─────────┘└─────────┘└───┘└─────────┘»\n",
       "meas: 2/═════════════════════════════════════════════════════════════════»\n",
       "                                                                         »\n",
       "«        ┌─────────┐┌───┐ ░ ┌─┐   \n",
       "«   q_0: ┤ RZ(π/2) ├┤ H ├─░─┤M├───\n",
       "«        ├─────────┤├───┤ ░ └╥┘┌─┐\n",
       "«   q_1: ┤ RZ(π/2) ├┤ H ├─░──╫─┤M├\n",
       "«        └─────────┘└───┘ ░  ║ └╥┘\n",
       "«meas: 2/════════════════════╩══╩═\n",
       "«                            0  1 "
      ]
     },
     "execution_count": 16,
     "metadata": {},
     "output_type": "execute_result"
    }
   ],
   "source": [
    "xx_meas = measure_xx_circuit(hets_circuit)\n",
    "xx_meas.draw()"
   ]
  },
  {
   "cell_type": "code",
   "execution_count": 17,
   "metadata": {},
   "outputs": [
    {
     "name": "stdout",
     "output_type": "stream",
     "text": [
      "<XX> = -1.0\n"
     ]
    }
   ],
   "source": [
    "def measure_xx(given_circuit, num_shots = 10000):\n",
    "    \n",
    "    xx_meas = measure_xx_circuit(given_circuit)\n",
    "    \n",
    "    result = execute(xx_meas, backend = simulator, shots = num_shots).result()\n",
    "    counts = result.get_counts(xx_meas)\n",
    "\n",
    "    if '00' not in counts:\n",
    "        counts['00'] = 0\n",
    "    if '01' not in counts:\n",
    "        counts['01'] = 0\n",
    "    if '10' not in counts:\n",
    "        counts['10'] = 0\n",
    "    if '11' not in counts:\n",
    "        counts['11'] = 0\n",
    "\n",
    "    total_counts = counts['00'] + counts['11'] + counts['01'] + counts['10']\n",
    "    xx = counts['00'] + counts['11'] - counts['01'] - counts['10']\n",
    "    # xx(00) => +\n",
    "    # xx(11) => -- => +\n",
    "    # xx(01) => +- => -\n",
    "    # xx(10) => +- => -\n",
    "    xx = xx / total_counts\n",
    "    \n",
    "    return xx\n",
    "\n",
    "xx = measure_xx(hets_circuit)\n",
    "print(\"<XX> =\", str(xx))"
   ]
  },
  {
   "cell_type": "markdown",
   "metadata": {},
   "source": [
    "### Now we evaluate the energy of the trial state"
   ]
  },
  {
   "cell_type": "code",
   "execution_count": 18,
   "metadata": {},
   "outputs": [],
   "source": [
    "def get_energy(given_circuit, num_shots = 10000):\n",
    "    \n",
    "    zz = measure_zz(given_circuit, num_shots = num_shots)\n",
    "    iz = measure_iz(given_circuit, num_shots = num_shots)\n",
    "    zi = measure_zi(given_circuit, num_shots = num_shots)\n",
    "    xx = measure_xx(given_circuit, num_shots = num_shots)\n",
    "    \n",
    "    energy = (-1.0523732)*1 + (0.39793742)*iz + (-0.3979374)*zi + (-0.0112801)*zz + (0.18093119)*xx\n",
    "    \n",
    "    return energy"
   ]
  },
  {
   "cell_type": "code",
   "execution_count": 19,
   "metadata": {},
   "outputs": [
    {
     "name": "stdout",
     "output_type": "stream",
     "text": [
      "The energy of the trial state is -1.2376501171519998\n"
     ]
    }
   ],
   "source": [
    "energy = get_energy(hets_circuit)\n",
    "print(\"The energy of the trial state is\", str(energy))"
   ]
  },
  {
   "cell_type": "markdown",
   "metadata": {},
   "source": [
    "# Computing gradients"
   ]
  },
  {
   "cell_type": "markdown",
   "metadata": {},
   "source": [
    "The objective of the next set of exercises is to compute the next set of angles to use for the trial state preparation. Create two quantum circuits using `prepare_hets_circuit(depth=2, angle2 = pi/2)` for measuring expectation values with values for `angle1 = pi/2 + 0.1*pi/2` and `angle1 = pi/2 - 0.1*pi/2`, and measure the energy of both trial states."
   ]
  },
  {
   "cell_type": "code",
   "execution_count": 20,
   "metadata": {},
   "outputs": [
    {
     "name": "stdout",
     "output_type": "stream",
     "text": [
      "-1.1595782018373997 -1.2804808847222\n"
     ]
    }
   ],
   "source": [
    "hets_circuit_plus = None\n",
    "hets_circuit_minus = None\n",
    "\n",
    "### WRITE YOUR CODE BETWEEN THESE LINES - START\n",
    "hets_circuit_plus = prepare_hets_circuit(depth=2, angle1 = (pi/2 + 0.1*pi/2), angle2 = pi/2)\n",
    "hets_circuit_minus = prepare_hets_circuit(depth=2, angle1 = (pi/2 - 0.1*pi/2), angle2 = pi/2)\n",
    "\n",
    "### WRITE YOUR CODE BETWEEN THESE LINES - END\n",
    "\n",
    "energy_plus = get_energy(hets_circuit_plus, num_shots=100000)\n",
    "energy_minus = get_energy(hets_circuit_minus, num_shots=100000)\n",
    "\n",
    "print(energy_plus, energy_minus)"
   ]
  },
  {
   "cell_type": "markdown",
   "metadata": {},
   "source": [
    "As you can see, one of these is certainly lower energy than the other, and is also lower energy than the case when `angle1 = pi/2`. This is a suitable next point for our iteration of a variational eigensolver."
   ]
  },
  {
   "cell_type": "markdown",
   "metadata": {},
   "source": [
    "# Submitting your solutions for grading"
   ]
  },
  {
   "cell_type": "markdown",
   "metadata": {},
   "source": [
    "Now, grade your solution by running the cell below after filling in your name and email address. Always provide the same name and email as the one you used during registration to ensure consistency."
   ]
  },
  {
   "cell_type": "code",
   "execution_count": 21,
   "metadata": {},
   "outputs": [
    {
     "name": "stdout",
     "output_type": "stream",
     "text": [
      "Grading...\n",
      "🚫 Either your internet connection is too unreliable or the grading servers are down right now.\n",
      "Grading...\n",
      "🚫 Either your internet connection is too unreliable or the grading servers are down right now.\n",
      "Grading...\n",
      "🚫 Either your internet connection is too unreliable or the grading servers are down right now.\n"
     ]
    }
   ],
   "source": [
    "name = 'Saasha Joshi'\n",
    "email = 'saashajoshi08@gmail.com'\n",
    "\n",
    "### Do not change the lines below\n",
    "from grading_tools import grade\n",
    "\n",
    "grade(answer=measure_xx_circuit(hets_circuit), name=name, email=email, labid='lab9', exerciseid='ex1')\n",
    "grade(answer=hets_circuit_plus, name=name, email=email, labid='lab9', exerciseid='ex2')\n",
    "grade(answer=hets_circuit_minus, name=name, email=email, labid='lab9', exerciseid='ex3')"
   ]
  },
  {
   "cell_type": "markdown",
   "metadata": {},
   "source": [
    "**Help us improve our educational tools by submitting your code**<br>\n",
    "If you would like to help us learn how to improve our educational materials and offerings, you can opt in to send us a copy of your Jupyter notebook. By executing the cell below, you consent to sending us the code in your Jupyter notebook. All of the personal information will be anonymized."
   ]
  },
  {
   "cell_type": "code",
   "execution_count": null,
   "metadata": {},
   "outputs": [],
   "source": [
    "from IPython.display import display, Javascript;display(Javascript('IPython.notebook.save_checkpoint();'));\n",
    "from grading_tools import send_code;send_code('ex1.ipynb')"
   ]
  },
  {
   "cell_type": "markdown",
   "metadata": {},
   "source": [
    "## Bonus 1"
   ]
  },
  {
   "cell_type": "markdown",
   "metadata": {},
   "source": [
    "While this is not graded, explore whether the decision above would be easy if your execution ran different numbers of shots. In particular, measure `energy_plus` and `energy_minus` again with `100`, `1000` and `10000` shots to explore how easy or difficult this decision gets with each one."
   ]
  },
  {
   "cell_type": "code",
   "execution_count": null,
   "metadata": {},
   "outputs": [],
   "source": [
    "energy_plus_100, energy_plus_1000, energy_plus_10000 = 0, 0, 0\n",
    "energy_minus_100, energy_minus_1000, energy_minus_10000 = 0, 0, 0\n",
    "\n",
    "### WRITE YOUR CODE BETWEEN THESE LINES - START\n",
    "\n",
    "\n",
    "\n",
    "\n",
    "### WRITE YOUR CODE BETWEEN THESE LINES - END\n",
    "\n",
    "print(energy_plus_100, energy_minus_100, \"difference = \", energy_minus_100 - energy_plus_100)\n",
    "print(energy_plus_1000, energy_minus_1000, \"difference = \", energy_minus_1000 - energy_plus_1000)\n",
    "print(energy_plus_10000, energy_minus_10000, \"difference = \", energy_minus_10000 - energy_plus_10000)"
   ]
  },
  {
   "cell_type": "markdown",
   "metadata": {},
   "source": [
    "## Bonus 2"
   ]
  },
  {
   "cell_type": "markdown",
   "metadata": {},
   "source": [
    "While this is not graded, diagonalize the Hamiltonian by writing down the matrices for the Pauli operators `I`, `X` and `Z`, and find the exact ground state energy."
   ]
  },
  {
   "cell_type": "code",
   "execution_count": null,
   "metadata": {},
   "outputs": [],
   "source": [
    "### WRITE YOUR CODE BETWEEN THESE LINES - START\n",
    "\n",
    "\n",
    "\n",
    "\n",
    "\n",
    "\n",
    "\n",
    "### WRITE YOUR CODE BETWEEN THESE LINES - END"
   ]
  }
 ],
 "metadata": {
  "kernelspec": {
   "display_name": "Python 3",
   "language": "python",
   "name": "python3"
  },
  "language_info": {
   "codemirror_mode": {
    "name": "ipython",
    "version": 3
   },
   "file_extension": ".py",
   "mimetype": "text/x-python",
   "name": "python",
   "nbconvert_exporter": "python",
   "pygments_lexer": "ipython3",
   "version": "3.9.1"
  }
 },
 "nbformat": 4,
 "nbformat_minor": 2
}
